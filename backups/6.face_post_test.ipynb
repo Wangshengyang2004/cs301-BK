{
 "cells": [
  {
   "cell_type": "code",
   "execution_count": null,
   "id": "e77503d5-8cb9-40d9-b53a-c9b69768f65f",
   "metadata": {},
   "outputs": [],
   "source": [
    "# 测试torch服务API\n",
    "# 1.先使用images\\faces下的1.process_crop.ipynb对人脸进行裁剪\n",
    "# 2.人脸库中的人脸查询embedding\n",
    "# 3.待测试的人脸查询embeddeding与人脸库进行对比"
   ]
  },
  {
   "cell_type": "code",
   "execution_count": 1,
   "id": "1f4181b0-1b06-47b5-9d8b-0d84798201b1",
   "metadata": {},
   "outputs": [],
   "source": [
    "# 导入包\n",
    "import cv2\n",
    "import numpy as np\n",
    "import matplotlib.pyplot as plt"
   ]
  },
  {
   "cell_type": "code",
   "execution_count": 2,
   "id": "3f6b2671-8f6c-4ac2-a444-260c7c152875",
   "metadata": {},
   "outputs": [],
   "source": [
    "import requests"
   ]
  },
  {
   "cell_type": "code",
   "execution_count": 3,
   "id": "924ea555-0978-47db-bf1a-c6633343b6c8",
   "metadata": {},
   "outputs": [],
   "source": [
    "import io\n",
    "import zlib"
   ]
  },
  {
   "cell_type": "code",
   "execution_count": 4,
   "id": "081906b7-c7b1-42d8-b186-16f305cd579e",
   "metadata": {},
   "outputs": [],
   "source": [
    "def postData(fileName):\n",
    "    '''\n",
    "    远程获取embedding\n",
    "    '''\n",
    "    url = \"http://localhost:8080/predictions/facenet\"\n",
    "    with open(fileName, 'rb') as img:\n",
    "        payload = img\n",
    "        headers = {\n",
    "          'Content-Type': 'image/jpeg'\n",
    "        }\n",
    "        response = requests.request(\"POST\", url, headers=headers, data=payload)\n",
    "        result = np.array(response.json()['res'])\n",
    "        return result"
   ]
  },
  {
   "cell_type": "code",
   "execution_count": null,
   "id": "522757fa-3f10-420f-87b2-97affcf24725",
   "metadata": {},
   "outputs": [],
   "source": []
  },
  {
   "cell_type": "code",
   "execution_count": 5,
   "id": "ee931796-03b4-43da-acdf-87ab300aef66",
   "metadata": {},
   "outputs": [],
   "source": [
    "# 将所有测试图片输入网络"
   ]
  },
  {
   "cell_type": "code",
   "execution_count": 6,
   "id": "4a32e6ad-3410-4bfb-8455-ae73cb28d4a0",
   "metadata": {},
   "outputs": [],
   "source": [
    "import glob"
   ]
  },
  {
   "cell_type": "code",
   "execution_count": 7,
   "id": "8e30ec08-4d04-4763-af24-ad001b94798b",
   "metadata": {},
   "outputs": [],
   "source": [
    "known_face_list = glob.glob('./images/faces/croped/*')"
   ]
  },
  {
   "cell_type": "code",
   "execution_count": 8,
   "id": "57c5b74f-e369-4be8-8067-65a600100d94",
   "metadata": {},
   "outputs": [
    {
     "data": {
      "text/plain": [
       "['./images/faces/croped\\\\乔振宇.jpg',\n",
       " './images/faces/croped\\\\刘亦菲.jpg',\n",
       " './images/faces/croped\\\\刘亦菲_1.jpg',\n",
       " './images/faces/croped\\\\刘亦菲_2.jpg',\n",
       " './images/faces/croped\\\\刘诗诗.jpeg',\n",
       " './images/faces/croped\\\\刘诗诗.jpg',\n",
       " './images/faces/croped\\\\刘诗诗_2.jpg',\n",
       " './images/faces/croped\\\\景甜.jpg',\n",
       " './images/faces/croped\\\\王丽坤.jpg',\n",
       " './images/faces/croped\\\\王丽坤_1.jpg',\n",
       " './images/faces/croped\\\\王丽坤_2.jpg',\n",
       " './images/faces/croped\\\\胡歌.jpg',\n",
       " './images/faces/croped\\\\迪丽热巴.jpg',\n",
       " './images/faces/croped\\\\迪丽热巴_1.jpg',\n",
       " './images/faces/croped\\\\迪丽热巴_2.jpg',\n",
       " './images/faces/croped\\\\钟汉良.jpg',\n",
       " './images/faces/croped\\\\陈伟霆.jpg',\n",
       " './images/faces/croped\\\\陈伟霆_1.jpg',\n",
       " './images/faces/croped\\\\陈伟霆_2.jpg']"
      ]
     },
     "execution_count": 8,
     "metadata": {},
     "output_type": "execute_result"
    }
   ],
   "source": [
    "known_face_list"
   ]
  },
  {
   "cell_type": "code",
   "execution_count": 11,
   "id": "c04209d0-bcb3-4f7b-9f85-c5f326a676b2",
   "metadata": {},
   "outputs": [],
   "source": [
    "import tqdm"
   ]
  },
  {
   "cell_type": "code",
   "execution_count": 13,
   "id": "6fc02a6a-f5e7-4ecf-9dd2-2a9513ec98a5",
   "metadata": {},
   "outputs": [
    {
     "name": "stderr",
     "output_type": "stream",
     "text": [
      "远程获取人脸embedding: 100%|███████████████████████████████████████████████████████████| 19/19 [00:00<00:00, 27.00it/s]\n"
     ]
    }
   ],
   "source": [
    "# 记录名字\n",
    "name_list = []\n",
    "\n",
    "# 网络embedding\n",
    "net_embedding = []\n",
    "# 遍历\n",
    "for face in tqdm.tqdm(known_face_list,desc='远程获取人脸embedding'):\n",
    "    name = face.split('\\\\')[-1].split('.')[0]\n",
    "    name_list.append(name)\n",
    "    net_embedding.append(postData(face))"
   ]
  },
  {
   "cell_type": "code",
   "execution_count": 14,
   "id": "a21cfda4-c8b0-4185-a319-2813f0fd806b",
   "metadata": {},
   "outputs": [],
   "source": [
    "net_embedding = np.array(net_embedding)"
   ]
  },
  {
   "cell_type": "code",
   "execution_count": 15,
   "id": "a6e18d5d-6f9f-43ca-8687-ba705679f65f",
   "metadata": {},
   "outputs": [
    {
     "data": {
      "text/plain": [
       "(19, 128)"
      ]
     },
     "execution_count": 15,
     "metadata": {},
     "output_type": "execute_result"
    }
   ],
   "source": [
    "net_embedding.shape"
   ]
  },
  {
   "cell_type": "code",
   "execution_count": 17,
   "id": "967af486-3ae3-4a40-a7a9-fbe48ce6bedc",
   "metadata": {},
   "outputs": [],
   "source": [
    "# 加载待识别人脸"
   ]
  },
  {
   "cell_type": "code",
   "execution_count": 22,
   "id": "ef174007-3f7c-48a6-8eb9-6d43351598b1",
   "metadata": {},
   "outputs": [],
   "source": [
    "test_net_embedding = postData('images/faces/unknown_1.jpg')"
   ]
  },
  {
   "cell_type": "code",
   "execution_count": 23,
   "id": "ce1fa01c-e672-4717-a5fc-a0b1d90e4f30",
   "metadata": {},
   "outputs": [],
   "source": [
    "dist_list_net = np.linalg.norm((test_net_embedding-net_embedding),axis=1)"
   ]
  },
  {
   "cell_type": "code",
   "execution_count": 24,
   "id": "1472e273-99fb-43d1-80de-f587e83ae243",
   "metadata": {},
   "outputs": [],
   "source": [
    "min_index = np.argmin(dist_list_net)"
   ]
  },
  {
   "cell_type": "code",
   "execution_count": 25,
   "id": "0d77e823-81ae-4bf1-b675-d42b0ee6ef3a",
   "metadata": {},
   "outputs": [
    {
     "data": {
      "text/plain": [
       "(14, '迪丽热巴_2', 0.7739578043537149)"
      ]
     },
     "execution_count": 25,
     "metadata": {},
     "output_type": "execute_result"
    }
   ],
   "source": [
    "min_index,name_list[min_index],dist_list_net[min_index]"
   ]
  },
  {
   "cell_type": "code",
   "execution_count": null,
   "id": "60562d45-9c02-437b-9752-cfb07e531b69",
   "metadata": {},
   "outputs": [],
   "source": []
  },
  {
   "cell_type": "code",
   "execution_count": null,
   "id": "e719e137-1fa1-4776-b333-383d21a3f1fd",
   "metadata": {},
   "outputs": [],
   "source": []
  }
 ],
 "metadata": {
  "kernelspec": {
   "display_name": "Python 3 (ipykernel)",
   "language": "python",
   "name": "python3"
  },
  "language_info": {
   "codemirror_mode": {
    "name": "ipython",
    "version": 3
   },
   "file_extension": ".py",
   "mimetype": "text/x-python",
   "name": "python",
   "nbconvert_exporter": "python",
   "pygments_lexer": "ipython3",
   "version": "3.9.19"
  }
 },
 "nbformat": 4,
 "nbformat_minor": 5
}
