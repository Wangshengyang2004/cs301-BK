{
 "cells": [
  {
   "cell_type": "code",
   "execution_count": 10,
   "id": "1ba11bf1-0e93-4887-8593-7c6242c80b42",
   "metadata": {},
   "outputs": [],
   "source": [
    "# faiss 的简单demo"
   ]
  },
  {
   "cell_type": "code",
   "execution_count": 11,
   "id": "0eaa4d0b-e59d-4faa-8589-e824625c543f",
   "metadata": {},
   "outputs": [],
   "source": [
    "# 到这里安装自己版本的faiss\n",
    "# https://anaconda.org/search?q=faiss"
   ]
  },
  {
   "cell_type": "code",
   "execution_count": 12,
   "id": "a6cf61b8-a9d5-4906-a00b-c3b50c8dd79c",
   "metadata": {},
   "outputs": [],
   "source": [
    "import numpy as np"
   ]
  },
  {
   "cell_type": "code",
   "execution_count": 13,
   "id": "6efd03e4-ebcc-4a84-86c0-e892972c739e",
   "metadata": {},
   "outputs": [],
   "source": [
    "d = 64                           # 维度\n",
    "nb = 100000                      # 数据库数据大小"
   ]
  },
  {
   "cell_type": "code",
   "execution_count": 14,
   "id": "6dd02fdb-94a1-4ad8-8332-2e121e43ea01",
   "metadata": {},
   "outputs": [],
   "source": [
    "np.random.seed(1234)             # 保证可以复现"
   ]
  },
  {
   "cell_type": "code",
   "execution_count": 15,
   "id": "edac911f-e0ee-4a13-89cb-8a6ec026002c",
   "metadata": {},
   "outputs": [],
   "source": [
    "# 随机生成nb个维度为d的list\n",
    "xb = np.random.random((nb, d)).astype('float32')"
   ]
  },
  {
   "cell_type": "code",
   "execution_count": 16,
   "id": "9a6357b6-86cd-409e-9f9c-0c12daef71a4",
   "metadata": {},
   "outputs": [
    {
     "data": {
      "text/plain": [
       "(100000, 64)"
      ]
     },
     "execution_count": 16,
     "metadata": {},
     "output_type": "execute_result"
    }
   ],
   "source": [
    "xb.shape"
   ]
  },
  {
   "cell_type": "code",
   "execution_count": 17,
   "id": "dc556c8b-d815-46a6-8a10-7b8ad96140b2",
   "metadata": {},
   "outputs": [],
   "source": [
    "xb[:, 0] += np.arange(nb) / 1000."
   ]
  },
  {
   "cell_type": "code",
   "execution_count": null,
   "id": "28bb74fe-f56d-4843-9449-6d7105a3e53a",
   "metadata": {},
   "outputs": [],
   "source": []
  },
  {
   "cell_type": "code",
   "execution_count": 18,
   "id": "f1f9765d-165e-4a80-9592-132049cfd179",
   "metadata": {},
   "outputs": [],
   "source": [
    "import faiss                  \n"
   ]
  },
  {
   "cell_type": "code",
   "execution_count": 19,
   "id": "5336114b-ba3a-47dd-b7e5-72135bae49b8",
   "metadata": {},
   "outputs": [],
   "source": [
    "# 创建索引\n",
    "index = faiss.IndexFlatL2(d)   "
   ]
  },
  {
   "cell_type": "code",
   "execution_count": 20,
   "id": "5e0b6ecd-801a-4a53-b763-1c1a924af440",
   "metadata": {},
   "outputs": [
    {
     "name": "stdout",
     "output_type": "stream",
     "text": [
      "True\n"
     ]
    }
   ],
   "source": [
    "print(index.is_trained)\n"
   ]
  },
  {
   "cell_type": "code",
   "execution_count": 21,
   "id": "ec266edb-515f-46b4-a1a3-8ad2d947d7ab",
   "metadata": {},
   "outputs": [
    {
     "name": "stdout",
     "output_type": "stream",
     "text": [
      "100000\n"
     ]
    }
   ],
   "source": [
    "# 添加数据\n",
    "index.add(xb)                  \n",
    "print(index.ntotal)"
   ]
  },
  {
   "cell_type": "code",
   "execution_count": 22,
   "id": "794a25e9-7917-400d-b01d-be31160243a8",
   "metadata": {},
   "outputs": [
    {
     "name": "stdout",
     "output_type": "stream",
     "text": [
      "[[  0 393 363  78]\n",
      " [  1 555 277 364]\n",
      " [  2 304 101  13]\n",
      " [  3 173  18 182]\n",
      " [  4 288 370 531]]\n",
      "[[0.        7.1751733 7.2076297 7.2511625]\n",
      " [0.        6.3235645 6.684581  6.799946 ]\n",
      " [0.        5.7964087 6.391736  7.2815123]\n",
      " [0.        7.2779055 7.5279875 7.662846 ]\n",
      " [0.        6.7638035 7.2951202 7.368815 ]]\n"
     ]
    }
   ],
   "source": [
    "k = 4                          # 搜索4个最近的值\n",
    "D, I = index.search(xb[:5], k) # 搜索\n",
    "print(I)\n",
    "print(D)\n"
   ]
  },
  {
   "cell_type": "code",
   "execution_count": 23,
   "id": "4f8b35c6-0b12-408d-b22d-a54c0f5cf3db",
   "metadata": {},
   "outputs": [],
   "source": [
    "# 保存到磁盘\n",
    "faiss.write_index(index,'test.index')"
   ]
  },
  {
   "cell_type": "code",
   "execution_count": null,
   "id": "139ed779-0dcf-4f7e-ac77-1a5fdb431080",
   "metadata": {},
   "outputs": [],
   "source": []
  }
 ],
 "metadata": {
  "kernelspec": {
   "display_name": "Python 3 (ipykernel)",
   "language": "python",
   "name": "python3"
  },
  "language_info": {
   "codemirror_mode": {
    "name": "ipython",
    "version": 3
   },
   "file_extension": ".py",
   "mimetype": "text/x-python",
   "name": "python",
   "nbconvert_exporter": "python",
   "pygments_lexer": "ipython3",
   "version": "3.9.19"
  }
 },
 "nbformat": 4,
 "nbformat_minor": 5
}
